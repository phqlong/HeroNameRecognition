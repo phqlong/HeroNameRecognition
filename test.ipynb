{
 "cells": [
  {
   "cell_type": "code",
   "execution_count": 2,
   "metadata": {},
   "outputs": [
    {
     "data": {
      "text/plain": [
       "64"
      ]
     },
     "execution_count": 2,
     "metadata": {},
     "output_type": "execute_result"
    }
   ],
   "source": [
    "import pandas as pd\n",
    "import numpy as np\n",
    "from tqdm import tqdm\n",
    "\n",
    "import os\n",
    "import re\n",
    "import glob\n",
    "import shutil\n",
    "import requests\n",
    "from bs4 import BeautifulSoup\n",
    "\n",
    "import torch\n",
    "import torchvision\n",
    "from torchvision import transforms\n",
    "from torchvision.datasets import ImageFolder\n",
    "from torch.utils.data import DataLoader\n",
    "\n",
    "from PIL import Image\n",
    "\n",
    "\n",
    "ROOT_PATH = os.getcwd()\n",
    "HERO_NAMES_PATH = f\"{ROOT_PATH}/test_data/hero_names.txt\"\n",
    "HERO_IMAGES_DIR = f\"{ROOT_PATH}/test_data/hero_images/\"\n",
    "TEST_IMAGES_DIR = f\"{ROOT_PATH}/test_data/test_images/\"\n",
    "TEST_LABELS_PATH = f\"{ROOT_PATH}/test_data/test.txt\"\n",
    "\n",
    "# Get hero names list\n",
    "with open(HERO_NAMES_PATH, \"r\") as f:\n",
    "    hero_names = f.read().splitlines()\n",
    "len(hero_names)"
   ]
  },
  {
   "attachments": {},
   "cell_type": "markdown",
   "metadata": {},
   "source": [
    "# Download Hero Images"
   ]
  },
  {
   "cell_type": "code",
   "execution_count": 2,
   "metadata": {},
   "outputs": [
    {
     "name": "stderr",
     "output_type": "stream",
     "text": [
      "100%|██████████| 64/64 [00:00<00:00, 112.68it/s]\n"
     ]
    },
    {
     "data": {
      "text/plain": [
       "64"
      ]
     },
     "execution_count": 2,
     "metadata": {},
     "output_type": "execute_result"
    }
   ],
   "source": [
    "def get_champion_hero_image_links(hero_names):\n",
    "    url = \"https://leagueoflegends.fandom.com/wiki/Champion_(Wild_Rift)\"\n",
    "    response = requests.get(url)\n",
    "    soup = BeautifulSoup(response.text, \"html.parser\")\n",
    "\n",
    "    hero_image_links = {}\n",
    "\n",
    "    for hero_name in tqdm(hero_names):\n",
    "        \n",
    "        # Replace spaces with underscores and fix Kai'Sa and Kha'Zix\n",
    "        new_hero_name = hero_name.replace(\"_\", \" \")\n",
    "        new_hero_name = \"Kai'Sa\" if new_hero_name == \"KaiSa\" else new_hero_name\n",
    "        new_hero_name = \"Kha'Zix\" if new_hero_name == \"KhaZix\" else new_hero_name\n",
    "\n",
    "        link = soup.find_all(\"img\", attrs={'alt': new_hero_name})[0]\n",
    "        \n",
    "        match = re.search(r'https://.*?\\.png', link[\"src\"])\n",
    "\n",
    "        if match:\n",
    "            extracted_link = match.group(0)\n",
    "        else:\n",
    "            match = re.search(r'https://.*?\\.png', link[\"data-src\"])\n",
    "            if match:\n",
    "                extracted_link = match.group(0)\n",
    "            else:\n",
    "                print(\"No match found for \", hero_name)\n",
    "                continue\n",
    "\n",
    "        hero_image_links[hero_name] = extracted_link\n",
    "\n",
    "    return hero_image_links\n",
    "\n",
    "hero_image_links = get_champion_hero_image_links(hero_names)\n",
    "len(hero_image_links)"
   ]
  },
  {
   "cell_type": "code",
   "execution_count": 3,
   "metadata": {},
   "outputs": [
    {
     "name": "stderr",
     "output_type": "stream",
     "text": [
      "100%|██████████| 64/64 [00:15<00:00,  4.07it/s]\n"
     ]
    }
   ],
   "source": [
    "def download_hero_images(hero_image_links, path):\n",
    "    for hero_name, link in tqdm(hero_image_links.items()):\n",
    "        response = requests.get(link)\n",
    "        \n",
    "        if response.status_code == 200:\n",
    "            with open(f\"{path}{hero_name}.png\", \"wb\") as f:\n",
    "                f.write(response.content)\n",
    "        else:\n",
    "            print(f\"Failed to download image for {hero_name}.\")\n",
    "\n",
    "download_hero_images(hero_image_links, path=HERO_IMAGES_DIR)"
   ]
  },
  {
   "cell_type": "code",
   "execution_count": 4,
   "metadata": {},
   "outputs": [],
   "source": [
    "def add_folder_each_hero_image(directory=HERO_IMAGES_DIR):\n",
    "    files = os.listdir(directory)\n",
    "\n",
    "    for file in files:\n",
    "        if file.endswith('.png'):\n",
    "            hero_name = file.replace('.png', '')\n",
    "            os.mkdir(os.path.join(directory, hero_name))\n",
    "            shutil.move(os.path.join(directory, file), os.path.join(directory, hero_name, file))"
   ]
  },
  {
   "attachments": {},
   "cell_type": "markdown",
   "metadata": {},
   "source": [
    "# Dataset & Dataloader"
   ]
  },
  {
   "attachments": {},
   "cell_type": "markdown",
   "metadata": {},
   "source": [
    "## Prepare path & label"
   ]
  },
  {
   "cell_type": "code",
   "execution_count": 3,
   "metadata": {},
   "outputs": [
    {
     "name": "stdout",
     "output_type": "stream",
     "text": [
      "98\n"
     ]
    },
    {
     "data": {
      "text/plain": [
       "'Ahri'"
      ]
     },
     "execution_count": 3,
     "metadata": {},
     "output_type": "execute_result"
    }
   ],
   "source": [
    "test_images_path_list = glob.glob(TEST_IMAGES_DIR+\"*\")\n",
    "print(len(test_images_path_list))\n",
    "\n",
    "# Get labels for test images\n",
    "with open(TEST_LABELS_PATH, \"r\") as f:\n",
    "    test_labels = f.read().splitlines()\n",
    "    test_file_2_labels = [label.split(\"\\t\") for label in test_labels]\n",
    "    test_file_2_labels = {label[0]: label[1] for label in test_file_2_labels}\n",
    "\n",
    "def path_2_label(path):\n",
    "    file_name = path.split(\"\\\\\")[-1]\n",
    "    return test_file_2_labels[file_name]\n",
    "\n",
    "path_2_label(test_images_path_list[0])"
   ]
  },
  {
   "cell_type": "code",
   "execution_count": 4,
   "metadata": {},
   "outputs": [],
   "source": [
    "hero_images_path_list = glob.glob(HERO_IMAGES_DIR+\"*\")\n",
    "len(hero_images_path_list)\n",
    "\n",
    "# Get labels for hero images\n",
    "hero_images_path_2_label = {path: path.split(\"\\\\\")[-1].split(\".\")[0] for path in hero_images_path_list}"
   ]
  },
  {
   "cell_type": "code",
   "execution_count": 5,
   "metadata": {},
   "outputs": [
    {
     "data": {
      "text/plain": [
       "{'d:\\\\AI_Engineer_Test/test_data/hero_images\\\\Ahri.png': 'Ahri',\n",
       " 'd:\\\\AI_Engineer_Test/test_data/hero_images\\\\Akali.png': 'Akali',\n",
       " 'd:\\\\AI_Engineer_Test/test_data/hero_images\\\\Alistar.png': 'Alistar',\n",
       " 'd:\\\\AI_Engineer_Test/test_data/hero_images\\\\Amumu.png': 'Amumu',\n",
       " 'd:\\\\AI_Engineer_Test/test_data/hero_images\\\\Annie.png': 'Annie',\n",
       " 'd:\\\\AI_Engineer_Test/test_data/hero_images\\\\Ashe.png': 'Ashe',\n",
       " 'd:\\\\AI_Engineer_Test/test_data/hero_images\\\\Aurelion_Sol.png': 'Aurelion_Sol',\n",
       " 'd:\\\\AI_Engineer_Test/test_data/hero_images\\\\Blitzcrank.png': 'Blitzcrank',\n",
       " 'd:\\\\AI_Engineer_Test/test_data/hero_images\\\\Braum.png': 'Braum',\n",
       " 'd:\\\\AI_Engineer_Test/test_data/hero_images\\\\Camille.png': 'Camille',\n",
       " 'd:\\\\AI_Engineer_Test/test_data/hero_images\\\\Corki.png': 'Corki',\n",
       " 'd:\\\\AI_Engineer_Test/test_data/hero_images\\\\Darius.png': 'Darius',\n",
       " 'd:\\\\AI_Engineer_Test/test_data/hero_images\\\\Diana.png': 'Diana',\n",
       " 'd:\\\\AI_Engineer_Test/test_data/hero_images\\\\Dr._Mundo.png': 'Dr',\n",
       " 'd:\\\\AI_Engineer_Test/test_data/hero_images\\\\Draven.png': 'Draven',\n",
       " 'd:\\\\AI_Engineer_Test/test_data/hero_images\\\\Evelynn.png': 'Evelynn',\n",
       " 'd:\\\\AI_Engineer_Test/test_data/hero_images\\\\Ezreal.png': 'Ezreal',\n",
       " 'd:\\\\AI_Engineer_Test/test_data/hero_images\\\\Fiora.png': 'Fiora',\n",
       " 'd:\\\\AI_Engineer_Test/test_data/hero_images\\\\Fizz.png': 'Fizz',\n",
       " 'd:\\\\AI_Engineer_Test/test_data/hero_images\\\\Galio.png': 'Galio',\n",
       " 'd:\\\\AI_Engineer_Test/test_data/hero_images\\\\Garen.png': 'Garen',\n",
       " 'd:\\\\AI_Engineer_Test/test_data/hero_images\\\\Gragas.png': 'Gragas',\n",
       " 'd:\\\\AI_Engineer_Test/test_data/hero_images\\\\Graves.png': 'Graves',\n",
       " 'd:\\\\AI_Engineer_Test/test_data/hero_images\\\\Janna.png': 'Janna',\n",
       " 'd:\\\\AI_Engineer_Test/test_data/hero_images\\\\Jarvan_IV.png': 'Jarvan_IV',\n",
       " 'd:\\\\AI_Engineer_Test/test_data/hero_images\\\\Jax.png': 'Jax',\n",
       " 'd:\\\\AI_Engineer_Test/test_data/hero_images\\\\Jhin.png': 'Jhin',\n",
       " 'd:\\\\AI_Engineer_Test/test_data/hero_images\\\\Jinx.png': 'Jinx',\n",
       " 'd:\\\\AI_Engineer_Test/test_data/hero_images\\\\KaiSa.png': 'KaiSa',\n",
       " 'd:\\\\AI_Engineer_Test/test_data/hero_images\\\\Katarina.png': 'Katarina',\n",
       " 'd:\\\\AI_Engineer_Test/test_data/hero_images\\\\Kennen.png': 'Kennen',\n",
       " 'd:\\\\AI_Engineer_Test/test_data/hero_images\\\\KhaZix.png': 'KhaZix',\n",
       " 'd:\\\\AI_Engineer_Test/test_data/hero_images\\\\Lee_Sin.png': 'Lee_Sin',\n",
       " 'd:\\\\AI_Engineer_Test/test_data/hero_images\\\\Leona.png': 'Leona',\n",
       " 'd:\\\\AI_Engineer_Test/test_data/hero_images\\\\Lulu.png': 'Lulu',\n",
       " 'd:\\\\AI_Engineer_Test/test_data/hero_images\\\\Lux.png': 'Lux',\n",
       " 'd:\\\\AI_Engineer_Test/test_data/hero_images\\\\Malphite.png': 'Malphite',\n",
       " 'd:\\\\AI_Engineer_Test/test_data/hero_images\\\\Master_Yi.png': 'Master_Yi',\n",
       " 'd:\\\\AI_Engineer_Test/test_data/hero_images\\\\Miss_Fortune.png': 'Miss_Fortune',\n",
       " 'd:\\\\AI_Engineer_Test/test_data/hero_images\\\\Nami.png': 'Nami',\n",
       " 'd:\\\\AI_Engineer_Test/test_data/hero_images\\\\Nasus.png': 'Nasus',\n",
       " 'd:\\\\AI_Engineer_Test/test_data/hero_images\\\\Olaf.png': 'Olaf',\n",
       " 'd:\\\\AI_Engineer_Test/test_data/hero_images\\\\Orianna.png': 'Orianna',\n",
       " 'd:\\\\AI_Engineer_Test/test_data/hero_images\\\\Pantheon.png': 'Pantheon',\n",
       " 'd:\\\\AI_Engineer_Test/test_data/hero_images\\\\Rakan.png': 'Rakan',\n",
       " 'd:\\\\AI_Engineer_Test/test_data/hero_images\\\\Rammus.png': 'Rammus',\n",
       " 'd:\\\\AI_Engineer_Test/test_data/hero_images\\\\Rengar.png': 'Rengar',\n",
       " 'd:\\\\AI_Engineer_Test/test_data/hero_images\\\\Seraphine.png': 'Seraphine',\n",
       " 'd:\\\\AI_Engineer_Test/test_data/hero_images\\\\Shyvana.png': 'Shyvana',\n",
       " 'd:\\\\AI_Engineer_Test/test_data/hero_images\\\\Singed.png': 'Singed',\n",
       " 'd:\\\\AI_Engineer_Test/test_data/hero_images\\\\Sona.png': 'Sona',\n",
       " 'd:\\\\AI_Engineer_Test/test_data/hero_images\\\\Soraka.png': 'Soraka',\n",
       " 'd:\\\\AI_Engineer_Test/test_data/hero_images\\\\Teemo.png': 'Teemo',\n",
       " 'd:\\\\AI_Engineer_Test/test_data/hero_images\\\\Tristana.png': 'Tristana',\n",
       " 'd:\\\\AI_Engineer_Test/test_data/hero_images\\\\Tryndamere.png': 'Tryndamere',\n",
       " 'd:\\\\AI_Engineer_Test/test_data/hero_images\\\\Twisted_Fate.png': 'Twisted_Fate',\n",
       " 'd:\\\\AI_Engineer_Test/test_data/hero_images\\\\Varus.png': 'Varus',\n",
       " 'd:\\\\AI_Engineer_Test/test_data/hero_images\\\\Vayne.png': 'Vayne',\n",
       " 'd:\\\\AI_Engineer_Test/test_data/hero_images\\\\Vi.png': 'Vi',\n",
       " 'd:\\\\AI_Engineer_Test/test_data/hero_images\\\\Wukong.png': 'Wukong',\n",
       " 'd:\\\\AI_Engineer_Test/test_data/hero_images\\\\Xin_Zhao.png': 'Xin_Zhao',\n",
       " 'd:\\\\AI_Engineer_Test/test_data/hero_images\\\\Yasuo.png': 'Yasuo',\n",
       " 'd:\\\\AI_Engineer_Test/test_data/hero_images\\\\Zed.png': 'Zed',\n",
       " 'd:\\\\AI_Engineer_Test/test_data/hero_images\\\\Ziggs.png': 'Ziggs'}"
      ]
     },
     "execution_count": 5,
     "metadata": {},
     "output_type": "execute_result"
    }
   ],
   "source": [
    "hero_images_path_2_label"
   ]
  },
  {
   "attachments": {},
   "cell_type": "markdown",
   "metadata": {},
   "source": [
    "## Transform "
   ]
  },
  {
   "cell_type": "code",
   "execution_count": 6,
   "metadata": {},
   "outputs": [],
   "source": [
    "import random\n",
    "from torchvision.transforms import transforms\n",
    "import torch.nn.functional as F\n",
    "import torchvision.transforms.functional as TF\n",
    "\n",
    "\n",
    "class RandomTransform:\n",
    "    def __init__(self, p=0.5, max_padding=100, noise=0.1):\n",
    "        self.p = p\n",
    "        self.max_padding = max_padding\n",
    "        self.noise = noise\n",
    "        \n",
    "    def __call__(self, x):\n",
    "        if random.random() < self.p:\n",
    "            # Crop, Rotate, ColorJitter\n",
    "            x = TF.rotate(x, angle=random.randint(-45, 45))\n",
    "            x = TF.resized_crop(x, top=random.randint(0, 50), left=random.randint(0, 50), height=256, width=256, size=(256, 256))\n",
    "\n",
    "            # Random padding\n",
    "            padding = random.randint(0, self.max_padding)\n",
    "            x = TF.pad(x, padding, padding_mode='reflect')\n",
    "            \n",
    "            # Pad with random colors\n",
    "            padding_color = (random.randint(0, 255), random.randint(0, 255), random.randint(0, 255))\n",
    "            x = TF.pad(x, padding, padding_mode='constant', fill=padding_color)\n",
    "            \n",
    "            # Adjust brightness, contrast, and saturation\n",
    "            brightness = random.uniform(0.7, 1.2)\n",
    "            contrast = random.uniform(0.7, 1.2)\n",
    "            saturation = random.uniform(0.7, 1.2)\n",
    "            x = TF.adjust_brightness(x, brightness_factor=brightness)\n",
    "            x = TF.adjust_contrast(x, contrast_factor=contrast)\n",
    "            x = TF.adjust_saturation(x, saturation_factor=saturation)\n",
    "            \n",
    "            # Add blender nois\n",
    "            x = TF.gaussian_blur(x, kernel_size=5)\n",
    "            img_blended = Image.new(x.mode, x.size)\n",
    "            x = Image.blend(x, img_blended, alpha=random.uniform(0.1, 0.5))\n",
    "                                \n",
    "        return x"
   ]
  },
  {
   "cell_type": "code",
   "execution_count": 9,
   "metadata": {},
   "outputs": [],
   "source": [
    "transform = transforms.Compose([\n",
    "                transforms.Resize((256, 256)),\n",
    "                RandomTransform(),\n",
    "                transforms.Resize((256, 256)),\n",
    "                # transforms.ToTensor(),\n",
    "                # transforms.Normalize(mean=(0.5, 0.5, 0.5), \n",
    "                #                      std=(0.5, 0.5, 0.5))\n",
    "            ])\n",
    "\n",
    "# image = Image.open(test_images_path_list[70])\n",
    "image = Image.open(hero_images_path_list[9])\n",
    "transformed_image = transform(image)\n",
    "transformed_image.show()"
   ]
  },
  {
   "attachments": {},
   "cell_type": "markdown",
   "metadata": {},
   "source": [
    "## Dataset"
   ]
  },
  {
   "cell_type": "code",
   "execution_count": 7,
   "metadata": {},
   "outputs": [],
   "source": [
    "from torch.utils.data import Dataset\n",
    "from tqdm import tqdm\n",
    "\n",
    "\n",
    "class HeroImagesDataset(Dataset):\n",
    "    def __init__(self, \n",
    "                 hero_images_path_list, \n",
    "                 hero_images_path_2_label,\n",
    "                 num_triplets=20,\n",
    "                 train=True,\n",
    "                 to_tensor=True):\n",
    "        \n",
    "        self.hero_images_path_list = hero_images_path_list\n",
    "        self.hero_images_path_2_label = hero_images_path_2_label\n",
    "        self.num_triplets = num_triplets\n",
    "        self.train = train\n",
    "        self.to_tensor = to_tensor\n",
    "\n",
    "        self.transform = transforms.Compose([\n",
    "            transforms.Resize((256, 256)),\n",
    "            RandomTransform(p=0.7),\n",
    "            transforms.Resize((256, 256)),\n",
    "        ])\n",
    "\n",
    "        if self.to_tensor:\n",
    "            self.transform_to_tensor = transforms.Compose([\n",
    "                transforms.ToTensor(),\n",
    "                transforms.Normalize(mean=[0.485, 0.456, 0.406], \n",
    "                                     std=[0.229, 0.224, 0.225]),\n",
    "            ])\n",
    "\n",
    "        self.data, self.target = self.load_data()\n",
    "\n",
    "    def load_data(self):\n",
    "        data_samples = []\n",
    "        targets = []\n",
    "\n",
    "        for anchor_img_path in tqdm(self.hero_images_path_list):\n",
    "            hero_label = self.hero_images_path_2_label[anchor_img_path]\n",
    "\n",
    "            triplet_samples = self.create_triplet_samples(anchor_img_path)\n",
    "\n",
    "            data_samples += triplet_samples\n",
    "            targets += [hero_label] * len(triplet_samples)\n",
    "\n",
    "        return data_samples, targets\n",
    "\n",
    "    def create_triplet_samples(self, anchor_img_path):\n",
    "        triplet_samples = []\n",
    "\n",
    "        neg_img_paths = random.sample([p for p in self.hero_images_path_list if p != anchor_img_path], self.num_triplets)\n",
    "        \n",
    "        for neg_img_path in neg_img_paths:\n",
    "            anchor_img = Image.open(anchor_img_path).convert('RGB')\n",
    "            pos_img = Image.open(anchor_img_path).convert('RGB')\n",
    "            neg_img = Image.open(neg_img_path).convert('RGB')\n",
    "\n",
    "            # Apply transformations for positive and negative images\n",
    "            pos_img = self.transform(pos_img)\n",
    "            neg_img = self.transform(neg_img)\n",
    "\n",
    "            # Apply transformations to tensor\n",
    "            if self.to_tensor:\n",
    "                anchor_img = self.transform_to_tensor(anchor_img)\n",
    "                pos_img = self.transform_to_tensor(pos_img)\n",
    "                neg_img = self.transform_to_tensor(neg_img)\n",
    "\n",
    "            triplet_samples.append((anchor_img, pos_img, neg_img))\n",
    "\n",
    "        return triplet_samples\n",
    "    \n",
    "    def __getitem__(self, index):\n",
    "        return self.data[index], self.target[index]\n",
    "    \n",
    "    def __len__(self):\n",
    "        return len(self.data)\n"
   ]
  },
  {
   "attachments": {},
   "cell_type": "markdown",
   "metadata": {},
   "source": [
    "# Inference and Get top 20 retrieval"
   ]
  },
  {
   "cell_type": "code",
   "execution_count": 7,
   "metadata": {},
   "outputs": [
    {
     "data": {
      "text/plain": [
       "Sequential(\n",
       "  (0): Conv2d(3, 64, kernel_size=(7, 7), stride=(2, 2), padding=(3, 3), bias=False)\n",
       "  (1): BatchNorm2d(64, eps=1e-05, momentum=0.1, affine=True, track_running_stats=True)\n",
       "  (2): ReLU(inplace=True)\n",
       "  (3): MaxPool2d(kernel_size=3, stride=2, padding=1, dilation=1, ceil_mode=False)\n",
       "  (4): Sequential(\n",
       "    (0): BasicBlock(\n",
       "      (conv1): Conv2d(64, 64, kernel_size=(3, 3), stride=(1, 1), padding=(1, 1), bias=False)\n",
       "      (bn1): BatchNorm2d(64, eps=1e-05, momentum=0.1, affine=True, track_running_stats=True)\n",
       "      (relu): ReLU(inplace=True)\n",
       "      (conv2): Conv2d(64, 64, kernel_size=(3, 3), stride=(1, 1), padding=(1, 1), bias=False)\n",
       "      (bn2): BatchNorm2d(64, eps=1e-05, momentum=0.1, affine=True, track_running_stats=True)\n",
       "    )\n",
       "    (1): BasicBlock(\n",
       "      (conv1): Conv2d(64, 64, kernel_size=(3, 3), stride=(1, 1), padding=(1, 1), bias=False)\n",
       "      (bn1): BatchNorm2d(64, eps=1e-05, momentum=0.1, affine=True, track_running_stats=True)\n",
       "      (relu): ReLU(inplace=True)\n",
       "      (conv2): Conv2d(64, 64, kernel_size=(3, 3), stride=(1, 1), padding=(1, 1), bias=False)\n",
       "      (bn2): BatchNorm2d(64, eps=1e-05, momentum=0.1, affine=True, track_running_stats=True)\n",
       "    )\n",
       "  )\n",
       "  (5): Sequential(\n",
       "    (0): BasicBlock(\n",
       "      (conv1): Conv2d(64, 128, kernel_size=(3, 3), stride=(2, 2), padding=(1, 1), bias=False)\n",
       "      (bn1): BatchNorm2d(128, eps=1e-05, momentum=0.1, affine=True, track_running_stats=True)\n",
       "      (relu): ReLU(inplace=True)\n",
       "      (conv2): Conv2d(128, 128, kernel_size=(3, 3), stride=(1, 1), padding=(1, 1), bias=False)\n",
       "      (bn2): BatchNorm2d(128, eps=1e-05, momentum=0.1, affine=True, track_running_stats=True)\n",
       "      (downsample): Sequential(\n",
       "        (0): Conv2d(64, 128, kernel_size=(1, 1), stride=(2, 2), bias=False)\n",
       "        (1): BatchNorm2d(128, eps=1e-05, momentum=0.1, affine=True, track_running_stats=True)\n",
       "      )\n",
       "    )\n",
       "    (1): BasicBlock(\n",
       "      (conv1): Conv2d(128, 128, kernel_size=(3, 3), stride=(1, 1), padding=(1, 1), bias=False)\n",
       "      (bn1): BatchNorm2d(128, eps=1e-05, momentum=0.1, affine=True, track_running_stats=True)\n",
       "      (relu): ReLU(inplace=True)\n",
       "      (conv2): Conv2d(128, 128, kernel_size=(3, 3), stride=(1, 1), padding=(1, 1), bias=False)\n",
       "      (bn2): BatchNorm2d(128, eps=1e-05, momentum=0.1, affine=True, track_running_stats=True)\n",
       "    )\n",
       "  )\n",
       "  (6): Sequential(\n",
       "    (0): BasicBlock(\n",
       "      (conv1): Conv2d(128, 256, kernel_size=(3, 3), stride=(2, 2), padding=(1, 1), bias=False)\n",
       "      (bn1): BatchNorm2d(256, eps=1e-05, momentum=0.1, affine=True, track_running_stats=True)\n",
       "      (relu): ReLU(inplace=True)\n",
       "      (conv2): Conv2d(256, 256, kernel_size=(3, 3), stride=(1, 1), padding=(1, 1), bias=False)\n",
       "      (bn2): BatchNorm2d(256, eps=1e-05, momentum=0.1, affine=True, track_running_stats=True)\n",
       "      (downsample): Sequential(\n",
       "        (0): Conv2d(128, 256, kernel_size=(1, 1), stride=(2, 2), bias=False)\n",
       "        (1): BatchNorm2d(256, eps=1e-05, momentum=0.1, affine=True, track_running_stats=True)\n",
       "      )\n",
       "    )\n",
       "    (1): BasicBlock(\n",
       "      (conv1): Conv2d(256, 256, kernel_size=(3, 3), stride=(1, 1), padding=(1, 1), bias=False)\n",
       "      (bn1): BatchNorm2d(256, eps=1e-05, momentum=0.1, affine=True, track_running_stats=True)\n",
       "      (relu): ReLU(inplace=True)\n",
       "      (conv2): Conv2d(256, 256, kernel_size=(3, 3), stride=(1, 1), padding=(1, 1), bias=False)\n",
       "      (bn2): BatchNorm2d(256, eps=1e-05, momentum=0.1, affine=True, track_running_stats=True)\n",
       "    )\n",
       "  )\n",
       "  (7): Sequential(\n",
       "    (0): BasicBlock(\n",
       "      (conv1): Conv2d(256, 512, kernel_size=(3, 3), stride=(2, 2), padding=(1, 1), bias=False)\n",
       "      (bn1): BatchNorm2d(512, eps=1e-05, momentum=0.1, affine=True, track_running_stats=True)\n",
       "      (relu): ReLU(inplace=True)\n",
       "      (conv2): Conv2d(512, 512, kernel_size=(3, 3), stride=(1, 1), padding=(1, 1), bias=False)\n",
       "      (bn2): BatchNorm2d(512, eps=1e-05, momentum=0.1, affine=True, track_running_stats=True)\n",
       "      (downsample): Sequential(\n",
       "        (0): Conv2d(256, 512, kernel_size=(1, 1), stride=(2, 2), bias=False)\n",
       "        (1): BatchNorm2d(512, eps=1e-05, momentum=0.1, affine=True, track_running_stats=True)\n",
       "      )\n",
       "    )\n",
       "    (1): BasicBlock(\n",
       "      (conv1): Conv2d(512, 512, kernel_size=(3, 3), stride=(1, 1), padding=(1, 1), bias=False)\n",
       "      (bn1): BatchNorm2d(512, eps=1e-05, momentum=0.1, affine=True, track_running_stats=True)\n",
       "      (relu): ReLU(inplace=True)\n",
       "      (conv2): Conv2d(512, 512, kernel_size=(3, 3), stride=(1, 1), padding=(1, 1), bias=False)\n",
       "      (bn2): BatchNorm2d(512, eps=1e-05, momentum=0.1, affine=True, track_running_stats=True)\n",
       "    )\n",
       "  )\n",
       "  (8): AdaptiveAvgPool2d(output_size=(1, 1))\n",
       ")"
      ]
     },
     "execution_count": 7,
     "metadata": {},
     "output_type": "execute_result"
    }
   ],
   "source": [
    "# Define the model to be used for feature extraction\n",
    "model = torchvision.models.resnet18(pretrained=False)\n",
    "model = torch.nn.Sequential(*list(model.children())[:-1])  # Remove the last layer (classifier)\n",
    "\n",
    "ckpt_path = \"D:\\AI_Engineer_Test\\HeroDetection\\logs\\\\train\\\\runs\\\\2023-03-31_13-05-21\\checkpoints\\epoch_021.ckpt\"\n",
    "checkpoint = torch.load(ckpt_path)\n",
    "ckpt_state_dict = {key.replace('model.', ''): value for key, value in checkpoint['state_dict'].items()}\n",
    "\n",
    "model.load_state_dict(ckpt_state_dict)\n",
    "model.eval()"
   ]
  },
  {
   "cell_type": "code",
   "execution_count": 8,
   "metadata": {},
   "outputs": [],
   "source": [
    "class CircleCrop(object):\n",
    "    def __init__(self, size):\n",
    "        self.size = size\n",
    "        \n",
    "    def __call__(self, img):\n",
    "        # Convert PIL image to PyTorch tensor\n",
    "        img = transforms.ToTensor()(img)\n",
    "        \n",
    "        # Define circular mask\n",
    "        mask = np.zeros((img.shape[-2], img.shape[-1]))\n",
    "        center = [img.shape[-1] / 2, img.shape[-2] / 2]\n",
    "        radius = min(img.shape[-1], img.shape[-2]) / 2\n",
    "        for i in range(mask.shape[0]):\n",
    "            for j in range(mask.shape[1]):\n",
    "                if (i - center[1]) ** 2 + (j - center[0]) ** 2 <= radius ** 2:\n",
    "                    mask[i, j] = 1\n",
    "        \n",
    "        # Apply mask to image tensor\n",
    "        img = img * mask\n",
    "        \n",
    "        # Convert tensor back to PIL image\n",
    "        img = transforms.ToPILImage()(img)\n",
    "        \n",
    "        # Apply additional transforms\n",
    "        transform = transforms.Compose([\n",
    "            transforms.Resize(self.size),\n",
    "            transforms.CenterCrop(self.size)\n",
    "        ])\n",
    "        img = transform(img)\n",
    "        \n",
    "        return img\n"
   ]
  },
  {
   "cell_type": "code",
   "execution_count": 9,
   "metadata": {},
   "outputs": [],
   "source": [
    "def get_embedding(model, image_path, is_test=True, downsize=40):\n",
    "    if is_test:\n",
    "        transform = transforms.Compose([\n",
    "                        transforms.Lambda(lambda x: x.crop((0, 0, int(x.height*1.2), x.height))),  # Crop the left side\n",
    "                        transforms.Resize((256, 256)),\n",
    "                        transforms.CenterCrop(175),\n",
    "                        # CircleCrop(size=200),  # Crop the left side\n",
    "                        # transforms.Resize((256, 256)),\n",
    "                        transforms.ToTensor(),\n",
    "                        transforms.Normalize(mean=[0.485, 0.456, 0.406], \n",
    "                                            std=[0.229, 0.224, 0.225]),\n",
    "                    ])\n",
    "    else:\n",
    "        transform = transforms.Compose([\n",
    "                        transforms.Resize((downsize, downsize)),\n",
    "                        transforms.Resize((256, 256)),\n",
    "                        CircleCrop(size=256),  # Crop the left side\n",
    "                        transforms.ToTensor(),\n",
    "                        transforms.Normalize(mean=[0.485, 0.456, 0.406], \n",
    "                                            std=[0.229, 0.224, 0.225]),\n",
    "                    ])\n",
    "    \n",
    "    image = Image.open(image_path).convert('RGB')\n",
    "    image = transform(image).unsqueeze(0)\n",
    "\n",
    "    with torch.no_grad():\n",
    "        embedding = model(image).squeeze().cpu().detach().numpy()\n",
    "        return embedding"
   ]
  },
  {
   "cell_type": "code",
   "execution_count": 10,
   "metadata": {},
   "outputs": [
    {
     "name": "stderr",
     "output_type": "stream",
     "text": [
      "100%|██████████| 64/64 [00:07<00:00,  8.36it/s]\n",
      "100%|██████████| 64/64 [00:07<00:00,  8.49it/s]\n",
      "100%|██████████| 64/64 [00:07<00:00,  8.68it/s]\n"
     ]
    },
    {
     "data": {
      "text/plain": [
       "192"
      ]
     },
     "execution_count": 10,
     "metadata": {},
     "output_type": "execute_result"
    }
   ],
   "source": [
    "import annoy\n",
    "\n",
    "n_trees = 100  # Number of trees in the index\n",
    "\n",
    "annoy_index = annoy.AnnoyIndex(f=512, metric='euclidean')\n",
    "num_heroes = len(hero_images_path_list)\n",
    "\n",
    "for k, downsize in enumerate([25, 30, 35]):\n",
    "    for i, hero_path in tqdm(enumerate(hero_images_path_list), total=num_heroes):\n",
    "        embedding = get_embedding(model, hero_path, is_test=False, downsize=downsize)\n",
    "        annoy_index.add_item(i+k*num_heroes, embedding)\n",
    "\n",
    "annoy_index.build(n_trees)\n",
    "annoy_index.get_n_items() \n"
   ]
  },
  {
   "cell_type": "code",
   "execution_count": 105,
   "metadata": {},
   "outputs": [],
   "source": [
    "transform = transforms.Compose([\n",
    "                        transforms.Lambda(lambda x: x.crop((0, 0, int(x.height*1), x.height))),  # Crop the left side\n",
    "                        transforms.Resize((40, 40)),\n",
    "                        transforms.Resize((256, 256)),\n",
    "                        # transforms.CenterCrop(180),\n",
    "                        CircleCrop(size=256),  # Crop the left side\n",
    "                        transforms.Resize((256, 256)),\n",
    "                        # transforms.ToTensor(),\n",
    "                        # transforms.Normalize(mean=[0.485, 0.456, 0.406], \n",
    "                        #                     std=[0.229, 0.224, 0.225]),\n",
    "                    ])\n",
    "image = Image.open(hero_images_path_list[11]).convert('RGB')\n",
    "image = transform(image)\n",
    "image.show()"
   ]
  },
  {
   "cell_type": "code",
   "execution_count": 11,
   "metadata": {},
   "outputs": [
    {
     "name": "stdout",
     "output_type": "stream",
     "text": [
      "Akali\n",
      "([1, 65, 129, 39, 170, 127, 106, 103, 10, 63], [15.045661926269531, 15.535541534423828, 15.846200942993164, 17.097822189331055, 17.5467472076416, 17.57960319519043, 17.586578369140625, 17.600475311279297, 17.613298416137695, 17.630596160888672])\n"
     ]
    },
    {
     "data": {
      "text/plain": [
       "['Akali',\n",
       " 'Akali',\n",
       " 'Akali',\n",
       " 'Nami',\n",
       " 'Orianna',\n",
       " 'Ziggs',\n",
       " 'Orianna',\n",
       " 'Nami',\n",
       " 'Corki',\n",
       " 'Ziggs']"
      ]
     },
     "execution_count": 11,
     "metadata": {},
     "output_type": "execute_result"
    }
   ],
   "source": [
    "k = 10  # Number of nearest neighbors to retrieve\n",
    "\n",
    "query_path = test_images_path_list[10]\n",
    "# query_path = hero_images_path_list[35]\n",
    "print(path_2_label(query_path))\n",
    "# print(query_path)\n",
    "query_embedding = get_embedding(model, query_path, is_test=True)\n",
    "\n",
    "nn_indices, nn_scores = annoy_index.get_nns_by_vector(query_embedding, k, include_distances=True)\n",
    "print(annoy_index.get_nns_by_vector(query_embedding, k, include_distances=True))\n",
    "nn_indices = [list(hero_images_path_2_label.values())[i%num_heroes] for i in nn_indices]\n",
    "nn_indices"
   ]
  },
  {
   "cell_type": "code",
   "execution_count": 18,
   "metadata": {},
   "outputs": [
    {
     "name": "stderr",
     "output_type": "stream",
     "text": [
      "100%|██████████| 98/98 [00:02<00:00, 35.29it/s]"
     ]
    },
    {
     "name": "stdout",
     "output_type": "stream",
     "text": [
      "Accuracy: 0.7448979591836735\n"
     ]
    },
    {
     "name": "stderr",
     "output_type": "stream",
     "text": [
      "\n"
     ]
    }
   ],
   "source": [
    "acc = 0\n",
    "k=3\n",
    "\n",
    "for test_path in tqdm(test_images_path_list):\n",
    "    query_label = path_2_label(test_path)\n",
    "    query_embedding = get_embedding(model, test_path, is_test=True)\n",
    "    nn_indices, nn_scores = annoy_index.get_nns_by_vector(query_embedding, k, include_distances=True)\n",
    "    nn_labels = [list(hero_images_path_2_label.values())[i%64] for i in nn_indices]\n",
    "     \n",
    "    if query_label in nn_labels:\n",
    "        acc += 1\n",
    "\n",
    "print(f\"Accuracy: {acc/len(test_images_path_list)}\")"
   ]
  },
  {
   "cell_type": "code",
   "execution_count": null,
   "metadata": {},
   "outputs": [],
   "source": []
  }
 ],
 "metadata": {
  "kernelspec": {
   "display_name": "base",
   "language": "python",
   "name": "python3"
  },
  "language_info": {
   "codemirror_mode": {
    "name": "ipython",
    "version": 3
   },
   "file_extension": ".py",
   "mimetype": "text/x-python",
   "name": "python",
   "nbconvert_exporter": "python",
   "pygments_lexer": "ipython3",
   "version": "3.9.13"
  },
  "orig_nbformat": 4,
  "vscode": {
   "interpreter": {
    "hash": "2043299c89c8cd0b4d1a6f5cf4529bd58e6a4e0fe3181a25e0d328c821cdc5c5"
   }
  }
 },
 "nbformat": 4,
 "nbformat_minor": 2
}
